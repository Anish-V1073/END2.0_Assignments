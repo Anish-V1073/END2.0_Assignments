{
  "nbformat": 4,
  "nbformat_minor": 0,
  "metadata": {
    "colab": {
      "name": "Copy of First Handson - Simple LSTM.ipynb",
      "provenance": [],
      "collapsed_sections": [],
      "toc_visible": true
    },
    "kernelspec": {
      "name": "python380jvsc74a57bd0a6dee9cf8e5226bb6def156e71e6b40e6e438851e77d2a77ab97e2b365c802db",
      "display_name": "Python 3.8.0 64-bit"
    },
    "language_info": {
      "name": "python",
      "version": "3.8.0"
    },
    "accelerator": "GPU"
  },
  "cells": [
    {
      "cell_type": "code",
      "metadata": {
        "id": "HGiQNpF__YmV"
      },
      "source": [
        "pip install googletrans==4.0.0-rc1"
      ],
      "execution_count": null,
      "outputs": []
    },
    {
      "cell_type": "code",
      "metadata": {
        "id": "BL0mbY_pPbSI",
        "colab": {
          "base_uri": "https://localhost:8080/"
        },
        "outputId": "6a2b887f-0bd3-42b7-f070-d3ccf7c1b1d5"
      },
      "source": [
        "import pandas as pd\n",
        "import random\n",
        "import torch, torchtext\n",
        "from torchtext import data\n",
        "import googletrans\n",
        "import spacy\n",
        "import nltk\n",
        "nltk.download('punkt')\n",
        "from nltk.tokenize import word_tokenize\n",
        "from nltk.tokenize import RegexpTokenizer\n",
        "from googletrans import Translator"
      ],
      "execution_count": null,
      "outputs": []
    },
    {
      "cell_type": "code",
      "execution_count": null,
      "metadata": {},
      "outputs": [],
      "source": [
        "#@title This section loads diffrent objects needed\n",
        "sp = spacy.load('en_core_web_sm')\n",
        "STOPWORDS = sp.Defaults.stop_words\n",
        "translator = Translator()\n",
        "translator.raise_Exception = True\n",
        "lang_list = list(googletrans.LANGUAGES.keys()) "
      ]
    },
    {
      "cell_type": "code",
      "execution_count": null,
      "metadata": {},
      "outputs": [],
      "source": [
        "import string \n",
        "punctuations = list(string.punctuation)\n",
        "punctuations.append(\"''\")"
      ]
    },
    {
      "source": [
        "## Penn Treebank Parser"
      ],
      "cell_type": "markdown",
      "metadata": {}
    },
    {
      "cell_type": "code",
      "execution_count": null,
      "metadata": {},
      "outputs": [],
      "source": [
        "import pytreebank\n",
        "out_path = 'sst_{}.txt'\n",
        "dataset = pytreebank.load_sst('/content/sample_data/sst_raw')\n",
        "\n",
        "# Store train, dev and test in separate files\n",
        "for category in ['train', 'test', 'dev']:\n",
        "    with open(out_path.format(category), 'w') as outfile:\n",
        "        for item in dataset[category]:\n",
        "            outfile.write(\"__label__{}\\t{}\\n\".format(\n",
        "                item.to_labeled_lines()[0][0] + 1,\n",
        "                item.to_labeled_lines()[0][1]\n",
        "            ))\n",
        "# Print the length of the training set\n",
        "print(len(dataset['train']))"
      ]
    },
    {
      "source": [
        "## Data Augumentation"
      ],
      "cell_type": "markdown",
      "metadata": {}
    },
    {
      "cell_type": "code",
      "execution_count": null,
      "metadata": {},
      "outputs": [],
      "source": [
        "def back_translate(sentence):\n",
        "  translator = Translator()\n",
        "  words = word_tokenize(sentence)\n",
        "  if len(words) >= 2:\n",
        "    trans_lang = random.choice(lang_list) \n",
        "    trans_text = translator.translate(sentence, dest=trans_lang).text\n",
        "    reverse_trans = translator.translate(trans_text, src=trans_lang, dest='en').text \n",
        "    return reverse_trans\n",
        "  else:\n",
        "    return sentence  \n",
        "\n",
        "def random_deletion(sentence, p=0.1): \n",
        "    words = word_tokenize(sentence)\n",
        "    if len(words) == 1: # return if single word\n",
        "        return sentence\n",
        "    remaining = list(filter(lambda x: random.uniform(0,1) > p,words)) \n",
        "    if len(remaining) == 0: # if not left, sample a random word\n",
        "        return sentence\n",
        "    else:\n",
        "        return (\" \").join(remaining)\n",
        "\n",
        "def random_swap(sentence, n=1): \n",
        "    words = word_tokenize(sentence)\n",
        "    #print(words)\n",
        "    if len(words) <= 2:\n",
        "      return sentence\n",
        "    else:\n",
        "      length = range(len(words)) \n",
        "      for _ in range(n):\n",
        "          idx1, idx2 = random.sample(length, 2)\n",
        "          words[idx1], words[idx2] = words[idx2], words[idx1] \n",
        "      return (\" \").join(words)"
      ]
    },
    {
      "cell_type": "code",
      "execution_count": null,
      "metadata": {},
      "outputs": [],
      "source": [
        "def Augment_train_data(train_data):\n",
        "  No_train = train_data.Label.count()\n",
        "  print(\"Number of training sampels before augmnet:\",No_train)\n",
        "  count = 0\n",
        "  b = 0\n",
        "  r_s = 0\n",
        "  r_d = 0  \n",
        "  new_train_data = []\n",
        "  for i in range(0,No_train):\n",
        "    #print(train_data.Label[i])\n",
        "    if train_data.Label[i] == 1:\n",
        "      count+=1\n",
        "      back_trans = back_translate(train_data.Senetence[i])\n",
        "      if not back_trans == train_data.Senetence[i]:\n",
        "        new_train_data.append([new_train.Label[i],back_trans])\n",
        "        b+=1\n",
        "\n",
        "      rand_swap = random_swap(train_data.Senetence[i])\n",
        "      if not rand_swap == train_data.Senetence[i]:\n",
        "        new_train_data.append([train_data.Label[i],rand_swap])\n",
        "        r_s+=1\n",
        "    \n",
        "      rand_del = random_deletion(train_data.Senetence[i])\n",
        "      if not rand_del == train_data.Senetence[i]:\n",
        "        new_train_data.append([train_data.Label[i],rand_del])\n",
        "        r_d+=1 \n",
        "    if(count > 450):\n",
        "      break  \n",
        "\n",
        "  new_df = train_data.append(pd.DataFrame(new_train_data,columns=['Label','Senetence']),ignore_index = True)\n",
        "  print(\"Number of training sampels after augmnet:\",new_df.Senetence.count())\n",
        "  print(\"Number of training sampels back translated:\",b)\n",
        "  print(\"Number of training sampels random swapped:\",r_s)\n",
        "  print(\"Number of training sampels random deleted:\",r_d)\n",
        "\n",
        "  return new_df,new_train_data"
      ]
    },
    {
      "source": [
        "## Loading Dataset"
      ],
      "cell_type": "markdown",
      "metadata": {}
    },
    {
      "cell_type": "code",
      "metadata": {
        "id": "lbhwHW91g5KM"
      },
      "source": [
        "train_aug = pd.read_csv(\"Output_files\\Augmented_train_full.csv\",sep='|')"
      ],
      "execution_count": null,
      "outputs": []
    },
    {
      "cell_type": "code",
      "metadata": {
        "id": "7oA8x9LwAW87"
      },
      "source": [
        "valid = pd.read_csv(\"Output_files\\dev.csv\",sep='|')"
      ],
      "execution_count": null,
      "outputs": []
    },
    {
      "source": [
        "## Data Preprocessing"
      ],
      "cell_type": "markdown",
      "metadata": {}
    },
    {
      "cell_type": "code",
      "execution_count": null,
      "metadata": {},
      "outputs": [],
      "source": [
        "def preprocess(sentence):\n",
        "    text_tokens = word_tokenize(sentence)\n",
        "    tokens_filtered = [i.strip(\"\".join(punctuations)) for i in text_tokens if i not in punctuations]\n",
        "    tokens_filtered = (\" \").join(tokens_filtered)\n",
        "    #text_tokens = word_tokenize(tokens_filtered)\n",
        "    #tokens_filtered= [word for word in text_tokens if not word in STOPWORDS]\n",
        "    return tokens_filtered"
      ]
    },
    {
      "cell_type": "code",
      "execution_count": null,
      "metadata": {},
      "outputs": [],
      "source": [
        "for i in train_aug.index:\n",
        "    x = preprocess(train_aug.Senetence[i])\n",
        "    if len(x) == 0:\n",
        "        train_aug.at[i, \"Senetence\"] = train_aug.Senetence[i]\n",
        "    else:\n",
        "        train_aug.at[i, \"Senetence\"] = x"
      ]
    },
    {
      "cell_type": "code",
      "execution_count": null,
      "metadata": {},
      "outputs": [],
      "source": [
        "for i in valid.index:\n",
        "    x = preprocess(valid.Senetence[i])\n",
        "    if len(x) == 0:\n",
        "        valid.at[i, \"Senetence\"] = valid.Senetence[i]\n",
        "    else:\n",
        "        valid.at[i, \"Senetence\"] = x"
      ]
    },
    {
      "source": [
        "## From Here the network portion starts"
      ],
      "cell_type": "markdown",
      "metadata": {}
    },
    {
      "cell_type": "code",
      "metadata": {
        "colab": {
          "base_uri": "https://localhost:8080/"
        },
        "id": "4kqZx2hG6e4Q",
        "outputId": "ea3b7885-62eb-4646-a725-cf5b7f975db4"
      },
      "source": [
        "# Manual Seed\n",
        "SEED = 43\n",
        "torch.manual_seed(SEED)"
      ],
      "execution_count": null,
      "outputs": []
    },
    {
      "cell_type": "code",
      "metadata": {
        "id": "rL1YmEOloo0x",
        "colab": {
          "base_uri": "https://localhost:8080/"
        },
        "outputId": "7fe7c964-8daa-4e34-ac47-43a21c42a01e"
      },
      "source": [
        "device = torch.device(\"cuda\" if torch.cuda.is_available() else \"cpu\")\n",
        "device"
      ],
      "execution_count": null,
      "outputs": []
    },
    {
      "cell_type": "code",
      "metadata": {
        "id": "db3eiDVx6mKf"
      },
      "source": [
        "Review = torchtext.legacy.data.Field(sequential = True, tokenize = 'spacy', batch_first =True, include_lengths=True)\n",
        "Label = torchtext.legacy.data.LabelField(tokenize ='spacy', is_target=True, batch_first =True, sequential =False)"
      ],
      "execution_count": null,
      "outputs": []
    },
    {
      "cell_type": "code",
      "metadata": {
        "id": "-by1zHIV7LPI"
      },
      "source": [
        "fields = [('review', Review), ('label', Label)]"
      ],
      "execution_count": null,
      "outputs": []
    },
    {
      "cell_type": "code",
      "metadata": {
        "id": "GxmCFTgk797i"
      },
      "source": [
        "example = [torchtext.legacy.data.Example.fromlist([train_aug.Senetence[i],train_aug.Label[i]], fields) for i in range(train_aug.shape[0])] "
      ],
      "execution_count": null,
      "outputs": []
    },
    {
      "cell_type": "code",
      "metadata": {
        "id": "ERgwzfNgMyRI"
      },
      "source": [
        "example_2 = [torchtext.legacy.data.Example.fromlist([valid.Senetence[i],valid.Label[i]], fields) for i in range(valid.shape[0])] "
      ],
      "execution_count": null,
      "outputs": []
    },
    {
      "source": [
        "## To Write data to pickels for future use"
      ],
      "cell_type": "markdown",
      "metadata": {}
    },
    {
      "cell_type": "code",
      "metadata": {
        "id": "tsSZlR7tlKLb"
      },
      "source": [
        "import os, pickle\n",
        "with open('/content/sample_data/data/train_data.pkl', 'wb') as tokens: \n",
        "    pickle.dump(example, tokens)\n",
        "with open('/content/sample_data/data/valid_data.pkl', 'wb') as tokens: \n",
        "    pickle.dump(example_2, tokens)"
      ],
      "execution_count": null,
      "outputs": []
    },
    {
      "cell_type": "code",
      "metadata": {
        "id": "9MQwdrPOqCls"
      },
      "source": [
        "import os, pickle\n",
        "with open('/content/New/output/train_data.pkl', 'rb') as tokens: \n",
        "    example = pickle.load(tokens)\n",
        "with open('/content/New/output/valid_data.pkl', 'rb') as tokens: \n",
        "    example_2 = pickle.load(tokens)"
      ],
      "execution_count": null,
      "outputs": []
    },
    {
      "cell_type": "code",
      "metadata": {
        "id": "-Lj9XCy38OqE"
      },
      "source": [
        "Stanford_dataset_train = torchtext.legacy.data.Dataset(example, fields)\n",
        "Stanford_dataset_valid = torchtext.legacy.data.Dataset(example_2, fields)"
      ],
      "execution_count": null,
      "outputs": []
    },
    {
      "cell_type": "code",
      "metadata": {
        "colab": {
          "base_uri": "https://localhost:8080/"
        },
        "id": "91fhtSKS8y3T",
        "outputId": "6bfefae6-ca5d-4d0f-8b4d-b6162a0d45fb"
      },
      "source": [
        "len(Stanford_dataset_train), len(Stanford_dataset_valid)"
      ],
      "execution_count": null,
      "outputs": []
    },
    {
      "cell_type": "code",
      "metadata": {
        "id": "pCDhbBKJ81ZK"
      },
      "source": [
        "vars(Stanford_dataset_train.examples[278])"
      ],
      "execution_count": null,
      "outputs": []
    },
    {
      "cell_type": "code",
      "metadata": {
        "id": "b_K23gxx84-K"
      },
      "source": [
        "Review.build_vocab(Stanford_dataset_train)\n",
        "Label.build_vocab(Stanford_dataset_train)"
      ],
      "execution_count": null,
      "outputs": []
    },
    {
      "cell_type": "code",
      "metadata": {
        "colab": {
          "base_uri": "https://localhost:8080/"
        },
        "id": "zCPG8VrE9MKq",
        "outputId": "7e98694e-a729-499f-cbb2-49889ab20f13"
      },
      "source": [
        "print('Size of input vocab : ', len(Review.vocab))\n",
        "print('Size of label vocab : ', len(Label.vocab))\n",
        "print('Top 10 words appreared repeatedly :', list(Review.vocab.freqs.most_common(10)))\n",
        "print('Labels : ', Label.vocab.stoi)"
      ],
      "execution_count": null,
      "outputs": []
    },
    {
      "cell_type": "code",
      "metadata": {
        "id": "fIJyulXA9sEr"
      },
      "source": [
        "train_iterator, valid_iterator = torchtext.legacy.data.BucketIterator.splits((Stanford_dataset_train, Stanford_dataset_valid), batch_size = 128, \n",
        "                                                            sort_key = lambda x: len(x.review),\n",
        "                                                            sort_within_batch=True, device = device)"
      ],
      "execution_count": null,
      "outputs": []
    },
    {
      "cell_type": "code",
      "metadata": {
        "id": "0kgqqK75FLEV"
      },
      "source": [
        "next(iter(train_iterator))\n",
        "#len(train.examples[11].tweet)"
      ],
      "execution_count": null,
      "outputs": []
    },
    {
      "cell_type": "code",
      "metadata": {
        "id": "l_NVSpoV-Uaj"
      },
      "source": [
        "import os, pickle\n",
        "with open('pickles_files\\\\tokenizer_aug.pkl', 'wb') as tokens: \n",
        "    pickle.dump(Review.vocab.stoi, tokens)"
      ],
      "execution_count": null,
      "outputs": []
    },
    {
      "cell_type": "code",
      "metadata": {
        "id": "fNQnNcH6-oZZ"
      },
      "source": [
        "import torch.nn as nn\n",
        "import torch.nn.functional as F\n",
        "\n",
        "class classifier(nn.Module):\n",
        "    \n",
        "    # Define all the layers used in model\n",
        "    def __init__(self, vocab_size, embedding_dim, hidden_dim, output_dim, n_layers, dropout):\n",
        "        \n",
        "        super().__init__()          \n",
        "        \n",
        "        # Embedding layer\n",
        "        self.embedding = nn.Embedding(vocab_size, embedding_dim)\n",
        "        \n",
        "        # LSTM layer\n",
        "        self.encoder = nn.LSTM(embedding_dim, \n",
        "                           hidden_dim, \n",
        "                           num_layers=n_layers, \n",
        "                           dropout=dropout,                           \n",
        "                           batch_first=True)\n",
        "        # try using nn.GRU or nn.RNN here and compare their performances\n",
        "        # try bidirectional and compare their performances\n",
        "        \n",
        "        # Dense layer\n",
        "        #self.fc1 = nn.Linear(hidden_dim, hidden_fcn) #one more fully connected layer\n",
        "\n",
        "        self.fc2 = nn.Linear(hidden_dim, output_dim)\n",
        "        self.dropout = nn.Dropout(0.3)\n",
        "        \n",
        "    def forward(self, text, text_lengths):\n",
        "        \n",
        "        # text = [batch size, sent_length]\n",
        "        embedded = self.embedding(text)\n",
        "        # embedded = [batch size, sent_len, emb dim]\n",
        "      \n",
        "        # packed sequence\n",
        "        packed_embedded = nn.utils.rnn.pack_padded_sequence(embedded, text_lengths.cpu(), batch_first=True)\n",
        "        \n",
        "        packed_output, (hidden, cell) = self.encoder(packed_embedded)\n",
        "        #hidden = [batch size, num layers * num directions,hid dim]\n",
        "        #cell = [batch size, num layers * num directions,hid dim]\n",
        "    \n",
        "        # Hidden = [batch size, hid dim * num directions]\n",
        "        hidden = self.dropout(hidden)  \n",
        "        \n",
        "        #one more Fully connected layer\n",
        "        dense_outputs = self.fc2(hidden)\n",
        "\n",
        "        # Final activation function softmax\n",
        "        output = F.softmax(dense_outputs[0], dim=1)\n",
        "            \n",
        "        return output"
      ],
      "execution_count": null,
      "outputs": []
    },
    {
      "cell_type": "code",
      "metadata": {
        "id": "TFNWimMMAKya"
      },
      "source": [
        "# Define hyperparameters\n",
        "size_of_vocab = len(Review.vocab)\n",
        "embedding_dim = 100\n",
        "num_hidden_nodes = 50\n",
        "#num_hidden_nodes_fcn = 50\n",
        "num_output_nodes = 5\n",
        "num_layers = 2\n",
        "dropout = 0.3\n",
        "\n",
        "# Instantiate the model\n",
        "model = classifier(size_of_vocab, embedding_dim, num_hidden_nodes, num_output_nodes, num_layers, dropout = dropout)"
      ],
      "execution_count": null,
      "outputs": []
    },
    {
      "cell_type": "code",
      "metadata": {
        "colab": {
          "base_uri": "https://localhost:8080/"
        },
        "id": "IRextCcAASGO",
        "outputId": "3809aac0-c7e9-4dee-f552-3034ea594cb1"
      },
      "source": [
        "print(model)\n",
        "\n",
        "#No. of trianable parameters\n",
        "def count_parameters(model):\n",
        "    return sum(p.numel() for p in model.parameters() if p.requires_grad)\n",
        "    \n",
        "print(f'The model has {count_parameters(model):,} trainable parameters')"
      ],
      "execution_count": null,
      "outputs": []
    },
    {
      "cell_type": "code",
      "metadata": {
        "id": "EPK6b19HATLm"
      },
      "source": [
        "import torch.optim as optim\n",
        "#CUDA_LAUNCH_BLOCKING=1\n",
        "# define optimizer and loss\n",
        "optimizer = optim.Adam(model.parameters(), lr=0.0001)\n",
        "criterion = nn.CrossEntropyLoss()\n",
        "\n",
        "# define metric\n",
        "def binary_accuracy(preds, y):\n",
        "    #round predictions to the closest integer\n",
        "    _, predictions = torch.max(preds, 1)\n",
        "    \n",
        "    correct = (predictions == y).float() \n",
        "    acc = correct.sum() / len(correct)\n",
        "    return acc\n",
        "    \n",
        "# push to cuda if available\n",
        "model = model.to(device)\n",
        "criterion = criterion.to(device)"
      ],
      "execution_count": null,
      "outputs": []
    },
    {
      "cell_type": "code",
      "metadata": {
        "id": "A8t9iWwqAify"
      },
      "source": [
        "def train(model, iterator, optimizer, criterion):\n",
        "    \n",
        "    # initialize every epoch \n",
        "    epoch_loss = 0\n",
        "    epoch_acc = 0\n",
        "    \n",
        "    # set the model in training phase\n",
        "    model.train()  \n",
        "    \n",
        "    for batch in iterator:\n",
        "        \n",
        "        # resets the gradients after every batch\n",
        "        optimizer.zero_grad()   \n",
        "        \n",
        "        # retrieve text and no. of words\n",
        "        review, review_lengths = batch.review  \n",
        "        \n",
        "        # convert to 1D tensor\n",
        "        predictions = model(review, review_lengths).squeeze()  \n",
        "        \n",
        "        # compute the loss\n",
        "        loss = criterion(predictions, batch.label)        \n",
        "        \n",
        "        # compute the binary accuracy\n",
        "        acc = binary_accuracy(predictions, batch.label)   \n",
        "        \n",
        "        # backpropage the loss and compute the gradients\n",
        "        loss.backward()       \n",
        "        \n",
        "        # update the weights\n",
        "        optimizer.step()      \n",
        "        \n",
        "        # loss and accuracy\n",
        "        epoch_loss += loss.item()  \n",
        "        epoch_acc += acc.item()    \n",
        "        \n",
        "    return epoch_loss / len(iterator), epoch_acc / len(iterator)"
      ],
      "execution_count": null,
      "outputs": []
    },
    {
      "cell_type": "code",
      "metadata": {
        "id": "LMBXHd5JAuX-"
      },
      "source": [
        "def evaluate(model, iterator, criterion):\n",
        "    \n",
        "    # initialize every epoch\n",
        "    epoch_loss = 0\n",
        "    epoch_acc = 0\n",
        "\n",
        "    # deactivating dropout layers\n",
        "    model.eval()\n",
        "    \n",
        "    # deactivates autograd\n",
        "    with torch.no_grad():\n",
        "    \n",
        "        for batch in iterator:\n",
        "        \n",
        "            # retrieve text and no. of words\n",
        "            review, review_lengths = batch.review\n",
        "            \n",
        "            # convert to 1d tensor\n",
        "            predictions = model(review, review_lengths).squeeze()\n",
        "            \n",
        "            # compute loss and accuracy\n",
        "            loss = criterion(predictions, batch.label)\n",
        "            acc = binary_accuracy(predictions, batch.label)\n",
        "            \n",
        "            # keep track of loss and accuracy\n",
        "            epoch_loss += loss.item()\n",
        "            epoch_acc += acc.item()\n",
        "        \n",
        "    return epoch_loss / len(iterator), epoch_acc / len(iterator)"
      ],
      "execution_count": null,
      "outputs": []
    },
    {
      "cell_type": "code",
      "metadata": {
        "id": "q7UPwN0KAvVq",
        "colab": {
          "base_uri": "https://localhost:8080/"
        },
        "outputId": "af16e418-f5d3-43ee-833e-b2b262cdf18a"
      },
      "source": [
        "N_EPOCHS = 100\n",
        "best_valid_loss = float('inf')\n",
        "train_loss_list = []\n",
        "valid_loss_list = []\n",
        "train_acc_list = []\n",
        "valid_acc_list = []\n",
        "for epoch in range(N_EPOCHS):\n",
        "     \n",
        "    # train the model\n",
        "    print(\"Epoch:\",epoch,flush=True)\n",
        "    train_loss, train_acc = train(model, train_iterator, optimizer, criterion)\n",
        "    train_loss_list.append(train_loss)\n",
        "    train_acc_list.append(train_acc)\n",
        "\n",
        "    # evaluate the model    \n",
        "    valid_loss, valid_acc = evaluate(model, valid_iterator, criterion)\n",
        "    valid_loss_list.append(valid_loss)\n",
        "    valid_acc_list.append(valid_acc)\n",
        "\n",
        "    # save the best model\n",
        "    if valid_loss < best_valid_loss:\n",
        "        best_valid_loss = valid_loss\n",
        "        torch.save(model.state_dict(), 'pickles_files\\\\saved_weights_'+str(epoch)+'.pt')\n",
        "    \n",
        "    print(f'\\tTrain Loss: {train_loss:.3f} | Train Acc: {train_acc*100:.2f}%',flush=True)\n",
        "    print(f'\\t Val. Loss: {valid_loss:.3f} |  Val. Acc: {valid_acc*100:.2f}% \\n',flush=True)"
      ],
      "execution_count": null,
      "outputs": []
    },
    {
      "cell_type": "code",
      "metadata": {
        "id": "BXCGxks4AxT3"
      },
      "source": [
        "#load weights and tokenizer\n",
        "\n",
        "path='pickles_files\\\\saved_weights_'+str(epoch)+'.pt'\n",
        "model.load_state_dict(torch.load(path));\n",
        "model.eval();\n",
        "tokenizer_file = open('pickles_files\\\\tokenizer_aug.pkl', 'rb')\n",
        "tokenizer = pickle.load(tokenizer_file)\n",
        "\n",
        "#inference \n",
        "\n",
        "import spacy\n",
        "nlp = spacy.load('en_core_web_sm')\n",
        "\n",
        "def classify_review(review):    \n",
        "    \n",
        "    # tokenize the tweet \n",
        "    tokenized = [tok.text for tok in nlp.tokenizer(review)] \n",
        "    # convert to integer sequence using predefined tokenizer dictionary\n",
        "    indexed = [tokenizer[t] for t in tokenized]        \n",
        "    # compute no. of words        \n",
        "    length = [len(indexed)]\n",
        "    # convert to tensor                                    \n",
        "    tensor = torch.LongTensor(indexed).to(device)   \n",
        "    # reshape in form of batch, no. of words           \n",
        "    tensor = tensor.unsqueeze(1).T  \n",
        "    # convert to tensor                          \n",
        "    length_tensor = torch.LongTensor(length)\n",
        "    # Get the model prediction                  \n",
        "    prediction = model(tensor, length_tensor)\n",
        "\n",
        "    _, pred = torch.max(prediction, 1) \n",
        "    \n",
        "    return pred"
      ],
      "execution_count": null,
      "outputs": []
    }
  ]
}