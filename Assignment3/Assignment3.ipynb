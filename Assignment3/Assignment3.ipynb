{
  "nbformat": 4,
  "nbformat_minor": 0,
  "metadata": {
    "colab": {
      "name": "Assignment3_11.ipynb",
      "provenance": [],
      "collapsed_sections": []
    },
    "kernelspec": {
      "name": "python3",
      "display_name": "Python 3"
    },
    "language_info": {
      "name": "python"
    },
    "accelerator": "GPU"
  },
  "cells": [
    {
      "cell_type": "code",
      "metadata": {
        "colab": {
          "base_uri": "https://localhost:8080/"
        },
        "id": "H9c9SjGPR0j9",
        "outputId": "3272c2b0-d810-4ff4-861c-2751c050dfec"
      },
      "source": [
        "# Pytorch's tensors are similar to Numpy's ndarrays\n",
        "!pip install torch"
      ],
      "execution_count": null,
      "outputs": [
        {
          "output_type": "stream",
          "text": [
            "Requirement already satisfied: torch in /usr/local/lib/python3.7/dist-packages (1.8.1+cu101)\n",
            "Requirement already satisfied: typing-extensions in /usr/local/lib/python3.7/dist-packages (from torch) (3.7.4.3)\n",
            "Requirement already satisfied: numpy in /usr/local/lib/python3.7/dist-packages (from torch) (1.19.5)\n"
          ],
          "name": "stdout"
        }
      ]
    },
    {
      "cell_type": "code",
      "metadata": {
        "id": "B0nxMQXlZuqT"
      },
      "source": [
        "import torch\n",
        "import torchvision # provide access to datasets, models, transforms, utils, etc\n",
        "import torchvision.transforms as transforms\n",
        "from torch.utils.data import Dataset\n",
        "import numpy as np\n",
        "import matplotlib.pyplot as plt\n",
        "import random\n",
        "import torch.nn.functional as F"
      ],
      "execution_count": 1,
      "outputs": []
    },
    {
      "cell_type": "code",
      "metadata": {
        "id": "UK0j5ODTaAyz"
      },
      "source": [
        "#Using MNIST Dataset for Training and Testing\n",
        "training_set = torchvision.datasets.MNIST(\n",
        "    root='./data',\n",
        "    train=True,\n",
        "    download=True,\n",
        "    transform=transforms.Compose([transforms.ToTensor()])    \n",
        ")"
      ],
      "execution_count": null,
      "outputs": []
    },
    {
      "cell_type": "markdown",
      "metadata": {
        "id": "iYIZRg0iObYT"
      },
      "source": [
        "## Dataset Generation\n",
        "Creating a Custom dataset which consists of MNIST Image dataset, Random number and sum of the Image & a number.<br>\n",
        "By creating a custom class for dataset we can combine MNIST dataset, the random number(one-hot-encoded form) and sum of both."
      ]
    },
    {
      "cell_type": "code",
      "metadata": {
        "id": "1EZnGGYQBn9G"
      },
      "source": [
        "class MyTrainSet(Dataset):\n",
        "  def __init__(self, dataset):\n",
        "    #MNIST image dataset\n",
        "    self.ImageData = dataset\n",
        "    \n",
        "    #one-hot-encoding of digits 0-9\n",
        "    self.Integer = F.one_hot(torch.tensor([0,1,2,3,4,5,6,7,8,9]), num_classes=10)    \n",
        "\n",
        "  def __getitem__(self,index):\n",
        "    imagedata = self.ImageData[random.randint(0,59999)]\n",
        "    image,label = imagedata\n",
        "    RandNum = random.randint(0,9)\n",
        "    EncodedIp = self.Integer[RandNum] \n",
        "    #EncodedOp = self.Output[RandNum+label]   \n",
        "    return image,label,EncodedIp,(RandNum+label)\n",
        "\n",
        "  def __len__(self):\n",
        "    return len(self.ImageData)\n"
      ],
      "execution_count": 77,
      "outputs": []
    },
    {
      "cell_type": "code",
      "metadata": {
        "id": "QH7NYnRBHVQS"
      },
      "source": [
        "Mydata = MyTrainSet(training_set)"
      ],
      "execution_count": 78,
      "outputs": []
    },
    {
      "cell_type": "markdown",
      "metadata": {
        "id": "dxC8QIAEM2NT"
      },
      "source": [
        "## Data Visualization"
      ]
    },
    {
      "cell_type": "code",
      "metadata": {
        "id": "ORZIH9Z8HeD3",
        "colab": {
          "base_uri": "https://localhost:8080/",
          "height": 317
        },
        "outputId": "a2d7a44a-5c3a-4054-e8be-5ae6f94a056d"
      },
      "source": [
        "Image, label, EncodedIp,Sum_2 = next(iter(Mydata))\n",
        "plt.imshow(Image.squeeze(), cmap='gray')\n",
        "print('label:', label)\n",
        "#print('Random Number:', RandNum)\n",
        "print('Encoded Input:', EncodedIp)\n",
        "#print('Encoded Output:', EncodedOp)\n",
        "print('Sum :', Sum_2)"
      ],
      "execution_count": 7,
      "outputs": [
        {
          "output_type": "stream",
          "text": [
            "label: 5\n",
            "Encoded Input: tensor([0, 0, 0, 0, 0, 0, 0, 0, 1, 0])\n",
            "Sum : 13\n"
          ],
          "name": "stdout"
        },
        {
          "output_type": "display_data",
          "data": {
            "image/png": "[encoded data removed]",
            "text/plain": [
              "<Figure size 432x288 with 1 Axes>"
            ]
          },
          "metadata": {
            "tags": [],
            "needs_background": "light"
          }
        }
      ]
    },
    {
      "cell_type": "markdown",
      "metadata": {
        "id": "FJeyNE5hQD6f"
      },
      "source": [
        "## Building a Neural network"
      ]
    },
    {
      "cell_type": "code",
      "metadata": {
        "id": "csGGyOwvde7T"
      },
      "source": [
        "import torch.nn as nn\n",
        "import torch.nn.functional as F\n",
        "\n",
        "class Network(nn.Module):\n",
        "    def __init__(self):\n",
        "        super().__init__()\n",
        "\n",
        "        # Input Image 28x28 @1, Kernel_size = 5(i.e 5x5) \n",
        "        # therefore output image size= 24x24 @10(outchanels) and a maxpooling with Kernel=2 and stride =2\n",
        "        # The Output after Max-pooling will be 12x12@10\n",
        "        self.conv_layer1 = nn.Conv2d(in_channels=1, out_channels=10, kernel_size=5)\n",
        "\n",
        "        # Input Image 12x12 @10, Kernel_size = 5(i.e 5x5) \n",
        "        # therefore output image size= 8x8 @20(outchanels) and a maxpooling with Kernel=2 and stride =2\n",
        "        # The Output after Max-pooling will be 4x4@20\n",
        "        self.conv_layer2 = nn.Conv2d(in_channels=10, out_channels=20, kernel_size=5)\n",
        "        self.conv_dropout = nn.Dropout2d()\n",
        "\n",
        "\n",
        "        # Input Image 4x4@20, therefore 20*4*4 i/ps   \n",
        "        self.FCN1 = nn.Linear(in_features=320, out_features=50)\n",
        "\n",
        "        #Another layer of FCN with i/ps = 50 and o/ps = 10  (10 Classes)\n",
        "        self.out1 = nn.Linear(in_features=50, out_features=10)\n",
        "\n",
        "        # We are combining the output of the previous layer(with one-hot-encoded form)\n",
        "        self.FCN3 = nn.Linear(in_features=20, out_features=24)\n",
        "\n",
        "        # A Output layer with o/ps = 19 (the maximum sum of two digits will 18(i.e 19 including 0))\n",
        "        self.out2 = nn.Linear(in_features=24, out_features=19)\n",
        "\n",
        "        self.opfromimage = F.one_hot(torch.tensor([0,1,2,3,4,5,6,7,8,9]), num_classes=10)\n",
        "\n",
        "    def forward(self, inp1,inp2):\n",
        "        # (1) input layer\n",
        "        inp1 = inp1\n",
        "\n",
        "        # (2) hidden conv layer\n",
        "        N1 = self.conv_layer1(inp1)\n",
        "        N1 = F.max_pool2d(N1, kernel_size=2, stride=2)\n",
        "        N1 = F.relu(N1)\n",
        "        \n",
        "        # (3) hidden conv layer\n",
        "        N1 = self.conv_layer2(N1)\n",
        "        N1 = self.conv_dropout(N1)\n",
        "        N1 = F.max_pool2d(N1, kernel_size=2, stride=2)\n",
        "        N1 = F.relu(N1)        \n",
        "\n",
        "        # (4) hidden linear layer\n",
        "        N1 = N1.view(-1, 320)\n",
        "        N1 = self.FCN1(N1)\n",
        "        N1 = F.relu(N1)        \n",
        "\n",
        "        N1 = self.out1(N1)\n",
        "        N1 = F.log_softmax(N1,dim=1) \n",
        "        \n",
        "        # Generating i/p for nxt layer with previous layer o/ps\n",
        "        new_ip = self.opfromimage[N1.argmax(dim=1)]\n",
        "        \n",
        "        \n",
        "        Combined = torch.cat((new_ip, inp2), dim=1)\n",
        "        Combined = F.relu(Combined)\n",
        "\n",
        "        \n",
        "        # (6) hidden linear layer\n",
        "        Combined = self.FCN3(Combined)\n",
        "        Combined = F.relu(Combined)\n",
        "\n",
        "        # (7) hidden linear layer\n",
        "        Combined = self.out2(Combined)\n",
        "        Combined = F.softmax(Combined,dim=1)\n",
        "\n",
        "        return N1,Combined"
      ],
      "execution_count": 35,
      "outputs": []
    },
    {
      "cell_type": "code",
      "metadata": {
        "colab": {
          "base_uri": "https://localhost:8080/"
        },
        "id": "Z-fPCwROUREo",
        "outputId": "e8d7544f-e748-4532-c0ae-5363c8ec97e6"
      },
      "source": [
        "network = Network()\n",
        "network"
      ],
      "execution_count": 36,
      "outputs": [
        {
          "output_type": "execute_result",
          "data": {
            "text/plain": [
              "Network(\n",
              "  (conv_layer1): Conv2d(1, 10, kernel_size=(5, 5), stride=(1, 1))\n",
              "  (conv_layer2): Conv2d(10, 20, kernel_size=(5, 5), stride=(1, 1))\n",
              "  (conv_dropout): Dropout2d(p=0.5, inplace=False)\n",
              "  (FCN1): Linear(in_features=320, out_features=50, bias=True)\n",
              "  (out1): Linear(in_features=50, out_features=10, bias=True)\n",
              "  (FCN3): Linear(in_features=20, out_features=24, bias=True)\n",
              "  (out2): Linear(in_features=24, out_features=19, bias=True)\n",
              ")"
            ]
          },
          "metadata": {
            "tags": []
          },
          "execution_count": 36
        }
      ]
    },
    {
      "cell_type": "code",
      "metadata": {
        "colab": {
          "base_uri": "https://localhost:8080/",
          "height": 407
        },
        "id": "aMUn51F7U01H",
        "outputId": "61dbd7a6-a63b-4084-b8ae-85d185f39b39"
      },
      "source": [
        "Sample = next(iter(Mydata))\n",
        "Image, label, EncodedIp,Sum_2 = Sample\n",
        "plt.imshow(Image.squeeze(), cmap='gray')\n",
        "print('label:', label)\n",
        "#print('Random Number:', RandNum)\n",
        "print('Encoded Input:', EncodedIp)\n",
        "#print('Encoded Output:', EncodedOp)\n",
        "print('Sum :', Sum_2)\n",
        "\n",
        "network = Network()\n",
        "EncodedIp = torch.tensor(EncodedIp,dtype=torch.float32)\n",
        "pred_image,sum = network(Image.unsqueeze(0),EncodedIp.unsqueeze(0))\n",
        "#OP1 = pred[0,:10]\n",
        "#OP2 = pred[0,10:]\n",
        "print('Predicted Image :',pred_image.argmax(dim=1))\n",
        "print('Predicted Sum :',sum.argmax(dim=1))\n"
      ],
      "execution_count": 37,
      "outputs": [
        {
          "output_type": "stream",
          "text": [
            "label: 0\n",
            "Encoded Input: tensor([0, 0, 0, 0, 0, 0, 1, 0, 0, 0])\n",
            "Sum : 6\n",
            "Predicted Image : tensor([0])\n",
            "Predicted Sum : tensor([6])\n"
          ],
          "name": "stdout"
        },
        {
          "output_type": "stream",
          "text": [
            "/usr/local/lib/python3.7/dist-packages/ipykernel_launcher.py:11: UserWarning: To copy construct from a tensor, it is recommended to use sourceTensor.clone().detach() or sourceTensor.clone().detach().requires_grad_(True), rather than torch.tensor(sourceTensor).\n",
            "  # This is added back by InteractiveShellApp.init_path()\n"
          ],
          "name": "stderr"
        },
        {
          "output_type": "display_data",
          "data": {
            "image/png": "[encoded data removed]",
            "text/plain": [
              "<Figure size 432x288 with 1 Axes>"
            ]
          },
          "metadata": {
            "tags": [],
            "needs_background": "light"
          }
        }
      ]
    },
    {
      "cell_type": "code",
      "metadata": {
        "colab": {
          "base_uri": "https://localhost:8080/"
        },
        "id": "x2-GpnLpoY6S",
        "outputId": "eee45ec6-0773-4ea8-cc09-188811d654f7"
      },
      "source": [
        "data_loader = torch.utils.data.DataLoader(\n",
        "    Mydata, \n",
        "    batch_size=100\n",
        ")\n",
        "\n",
        "batch = next(iter(data_loader))\n",
        "len(batch)"
      ],
      "execution_count": 38,
      "outputs": [
        {
          "output_type": "execute_result",
          "data": {
            "text/plain": [
              "4"
            ]
          },
          "metadata": {
            "tags": []
          },
          "execution_count": 38
        }
      ]
    },
    {
      "cell_type": "code",
      "metadata": {
        "id": "KMPQkZLB1mmY"
      },
      "source": [
        "def get_num_correct(X, Y):\n",
        "  return X.argmax(dim=1).eq(Y).sum().item()"
      ],
      "execution_count": 39,
      "outputs": []
    },
    {
      "cell_type": "code",
      "metadata": {
        "colab": {
          "base_uri": "https://localhost:8080/"
        },
        "id": "p1DjHk6fsGib",
        "outputId": "0e2670da-076c-42d3-fe96-b957ac8350db"
      },
      "source": [
        "import torch.optim as optim\n",
        "torch.set_grad_enabled(True) # remember we turned off the gradients?"
      ],
      "execution_count": 40,
      "outputs": [
        {
          "output_type": "execute_result",
          "data": {
            "text/plain": [
              "<torch.autograd.grad_mode.set_grad_enabled at 0x7fcd21bedfd0>"
            ]
          },
          "metadata": {
            "tags": []
          },
          "execution_count": 40
        }
      ]
    },
    {
      "cell_type": "code",
      "metadata": {
        "id": "anESVvz7WDgv"
      },
      "source": [
        "optimizer = optim.Adam(network.parameters(), lr=0.01)"
      ],
      "execution_count": 41,
      "outputs": []
    },
    {
      "cell_type": "markdown",
      "metadata": {
        "id": "L7MvSllrRzxq"
      },
      "source": [
        "## Tarining a Network"
      ]
    },
    {
      "cell_type": "code",
      "metadata": {
        "id": "p6MDRI1c5OYy"
      },
      "source": [
        "train_loader = torch.utils.data.DataLoader(Mydata, batch_size=1000)\n",
        "optimizer = optim.Adam(network.parameters(), lr=0.05)\n",
        "\n",
        "for epoch in range(200):\n",
        "\n",
        "    total_loss_1 = 0\n",
        "    total_loss_2 = 0\n",
        "    total_correct = 0\n",
        "    total_correct_sum = 0\n",
        "\n",
        "    for batch in train_loader: # Get Batch\n",
        "        Image, label, EncodedIp,Sum_2 = batch\n",
        "        EncodedIp = torch.tensor(EncodedIp,dtype=torch.float32)\n",
        "        pred_image, Sum_3 = network(Image,EncodedIp)\n",
        "                \n",
        "        loss1 = F.cross_entropy(pred_image, label)\n",
        "        loss2 = F.cross_entropy(Sum_3, Sum_2)\n",
        "        Loss = loss1 + loss2\n",
        "        \n",
        "        optimizer.zero_grad()\n",
        "        Loss.backward() # Calculate Gradients\n",
        "        #loss2.backward()\n",
        "        optimizer.step() # Update Weights        \n",
        "\n",
        "        total_loss_1 += Loss.item()\n",
        "        #total_loss_2 += loss2.item()\n",
        "               \n",
        "        total_correct += get_num_correct(pred_image, label)\n",
        "        total_correct_sum +=get_num_correct(Sum_3,Sum_2)\n",
        "        #print(\n",
        "        #    \"total_correct images:\", total_correct, \n",
        "        #    \"total_correct Sum:\", total_correct_sum\n",
        "        #)\n",
        "\n",
        "    ImageAccuracy = (total_correct/60000)*100;\n",
        "    SumAccuracy = (total_correct_sum/60000)*100;\n",
        "    print(\n",
        "        \"\\n\\nEpoch: \", epoch,\n",
        "        \"\\nBatch Size: \",1000,\n",
        "        \"\\nPredicted image Count: \", total_correct,\n",
        "        \"Predicted sum Count: \", total_correct_sum,\n",
        "        #\"loss_1:\", total_loss1,\n",
        "        \"\\nTotal loss:\", total_loss_1,\n",
        "        \"\\nImage Accuracy: \",ImageAccuracy,\"Sum Accuracy: \", SumAccuracy\n",
        "    )"
      ],
      "execution_count": null,
      "outputs": []
    },
    {
      "cell_type": "markdown",
      "metadata": {
        "id": "76eb1IYyLNKN"
      },
      "source": [
        "## Evaluating\n",
        "\n",
        "We are using same strategy used for generating the training dataset for Test dataset"
      ]
    },
    {
      "cell_type": "code",
      "metadata": {
        "id": "h2LizMBuK2tt"
      },
      "source": [
        "test_set = torchvision.datasets.MNIST(\n",
        "    root='./data',\n",
        "    train=False,\n",
        "    download=True,\n",
        "    transform=transforms.Compose([transforms.ToTensor()])    \n",
        ")"
      ],
      "execution_count": 61,
      "outputs": []
    },
    {
      "cell_type": "code",
      "metadata": {
        "id": "V61qu4P4LQFs"
      },
      "source": [
        "class MyTestSet(Dataset):\n",
        "  def __init__(self, dataset):\n",
        "    #MNIST image dataset\n",
        "    self.ImageData = dataset\n",
        "    #one-hot-encoding of digits 0-9\n",
        "    self.Integer = F.one_hot(torch.tensor([0,1,2,3,4,5,6,7,8,9]), num_classes=10)\n",
        "    #self.Output = F.one_hot(torch.tensor([0,1,2,3,4,5,6,7,8,9,11,12,13,14,15,16,17,18]), num_classes=19)\n",
        "\n",
        "  def __getitem__(self,index):\n",
        "    imagedata = self.ImageData[random.randint(0,9999)]\n",
        "    image,label = imagedata\n",
        "    RandNum = random.randint(0,9)\n",
        "    EncodedIp = self.Integer[RandNum] \n",
        "    #EncodedOp = self.Output[RandNum+label]   \n",
        "    return image,label,EncodedIp,(RandNum+label)\n",
        "\n",
        "  def __len__(self):\n",
        "    return len(self.ImageData)"
      ],
      "execution_count": 74,
      "outputs": []
    },
    {
      "cell_type": "code",
      "metadata": {
        "id": "vXYXReRZLZd3"
      },
      "source": [
        "MyTestData = MyTestSet(test_set)"
      ],
      "execution_count": 75,
      "outputs": []
    },
    {
      "cell_type": "code",
      "metadata": {
        "colab": {
          "base_uri": "https://localhost:8080/"
        },
        "id": "iM1iPzXQLk-1",
        "outputId": "3a0b2c8b-6be6-47f2-ec8b-179370c22f5c"
      },
      "source": [
        "test_loader = torch.utils.data.DataLoader(MyTestData, batch_size=100)\n",
        "total_correct = 0\n",
        "total_correct_sum = 0\n",
        "for batch in test_loader: # Get Batch\n",
        "  Image, label, EncodedIp,Sum_2 = batch\n",
        "  EncodedIp = torch.tensor(EncodedIp,dtype=torch.float32)\n",
        "  pred_image, Sum_3 = network(Image,EncodedIp)\n",
        "  total_correct += get_num_correct(pred_image, label)\n",
        "  total_correct_sum +=get_num_correct(Sum_3,Sum_2)\n",
        "  TestImageAccuracy = (total_correct/10000)*100;\n",
        "  TestSumAccuracy = (total_correct_sum/10000)*100;\n",
        "print(\n",
        "        \"\\nPredicted image Count: \", total_correct,\n",
        "        \"Predicted sum Count: \", total_correct_sum,        \n",
        "        \"\\nImage Accuracy: \",TestImageAccuracy,\"Sum Accuracy: \", TestSumAccuracy\n",
        ")"
      ],
      "execution_count": 76,
      "outputs": [
        {
          "output_type": "stream",
          "text": [
            "/usr/local/lib/python3.7/dist-packages/ipykernel_launcher.py:6: UserWarning: To copy construct from a tensor, it is recommended to use sourceTensor.clone().detach() or sourceTensor.clone().detach().requires_grad_(True), rather than torch.tensor(sourceTensor).\n",
            "  \n"
          ],
          "name": "stderr"
        },
        {
          "output_type": "stream",
          "text": [
            "\n",
            "Predicted image Count:  8976 Predicted sum Count:  7261 \n",
            "Image Accuracy:  89.75999999999999 Sum Accuracy:  72.61\n"
          ],
          "name": "stdout"
        }
      ]
    },
    {
      "cell_type": "markdown",
      "metadata": {
        "id": "tWNqsBqpSQtq"
      },
      "source": [
        "## Results\n",
        "\n",
        "Training Set : 60000<br>\n",
        "Test Set : 10000\n",
        "<br><br>\n",
        "### Accuracy\n",
        "Image predicted correctly = 89%<br>\n",
        "Sum predicted correctly = 72%\n",
        "\n"
      ]
    }
  ]
}